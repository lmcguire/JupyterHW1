{
 "cells": [
  {
   "cell_type": "markdown",
   "metadata": {},
   "source": [
    "# Morphologic Dating of Cinder Cones\n",
    "\n",
    "### Overview\n",
    "The San Francisco Volcanic Field (SFVF) is located near Flagstaff, AZ, and contains hundreds of cinder cones (see image below). It has been hypothesized that volcanic activity within the SFVF has shifted from west to east over time, with the eastern side of the field becoming more active over time. If this is true, we would expect to see a lot of older cinder cones on the western side of the SFVF and younger cinder cones on the eastern side of the SFVF. While the SFVF contains hundreds of cinder cones, only a few of them have known ages. This makes it difficult to determine whether or not volcanic activity has actually shifted with time. The goal of this assignment is to use what you have learned about cinder cones and hillslope evolution in class to estimate the ages of 4 cones along a west-east transect in the SFVF so that we can test the hypothesis that the center of volcanic activity has shifted over time from west to east. Ideally, we would estimate the ages of numerous cinder cones (instead of only 4) in order to test this hypothesis more carefully. We can still learn a lot by doing this preliminary analysis.\n",
    "\n",
    "Note: The left panel of the image below comes from a 1994 paper written by Donald Hooper and Michael Sheridan (\"Computer simulation models of scoria cone degradation\"), which is a great reference if you are interested in more details on the SFVF or cinder cones in general.\n",
    "\n",
    "<img src=\"SFVFoverview.jpg\" alt=\"Drawing\"/>"
   ]
  },
  {
   "cell_type": "markdown",
   "metadata": {},
   "source": [
    "### A model for cinder cone evolution\n",
    "The first step in our process is to familiarize ourselves with how we will model the changes in cinder cone shape (or “morphology”) over time. We know that cinder cones start as conical landforms with hillslope angles that are roughly 30 degrees so we will take this as our starting point for all cinder cones. See the image below showing a topographic transect through our idealized \"initial\" cinder cone.\n",
    "\n",
    "<img src=\"coneprofile2.png\" alt=\"Drawing\"/>\n",
    "\n",
    "As we discussed in class, the flux of sediment across any point on the landscape (i.e. the mass of sediment, per unit width, moving past some location in a unit time) is a function of slope. Sediment moves quickly in places with a steep slope and very slowly in places with a low slope. Clearly, slope changes from place-to-place in the landscape so the sedimentflux also changes from place-to-place. Over time, these differences in sediment flux lead to changes in the topography. These changes in topography can be modeled using the diffusion equation. We will use the diffusion equation to simulate how the shape of cinder cones change with time. The diffusion equation is given by:\n",
    "\n",
    "$$ \\frac{\\partial z}{\\partial t}=D\\frac{\\partial^2z}{\\partial x^2} $$\n",
    "\n",
    "In the above equation, $z$ denotes elevation, $t$ is time, $x$ is distance in the hoirzontal direction, and $D$ is an empirical parameter called the landscape diffusivity. The landscape diffusivity is a function of climate and related factors, including vegetation. **You do not need to understand all of the notation in the equation above and you will not need to know how to solve it. We have included it so that you get an idea of how Earth surface scientists are able to translate conceptual models into mathematical models.** For this exercise, all you need to know about the diffusion equation is that erosion occurs faster if the landscape diffusivity ($D$) is large and slower if $D$ is small. "
   ]
  },
  {
   "cell_type": "markdown",
   "metadata": {},
   "source": [
    "### Running our first model simulation\n",
    "\n",
    "As we discussed in class, a Jupyter notebook has both markdown (or text) cells and code cells. Code cells contain code that can be executed by clicking on the cell and then hitting the \"run\" button located near the top menu bar of your screen. We will often provide you with all of the code that you need, but we may ask you to modify one or two small pieces of it in order to customize it for a specific task. \n",
    "\n",
    "When executed, the code block below will run a numerical model to determine the shape of a cinder cone given an age and a landscape diffusivity. Take a look at the first two lines of the code block below. You will see that this is where you can input values for the age and landscape diffusivity ($D$). If you want to see the shape of a cinder that is $200$ kyr old in a geologic/climatic setting where you think the landscape diffusivity is $20$ $\\mathrm{m}^2$ $\\mathrm{kyr}^{-1}$, then you would set the value of $D$ equal to $20$ and the value of age equal to $200$. Notice that these are the values that are already specified. Let's see what such a cinder cone would look like. Click on the code block below and then hit the \"run\" button. Once you hit \"run\", it may take 10-20 seconds for the code to finish running and for the result to be displayed. When the code has finsihed running, you should see an image. You may need to run the code block twice in order for the image to display properly."
   ]
  },
  {
   "cell_type": "code",
   "execution_count": null,
   "metadata": {},
   "outputs": [],
   "source": [
    "D=20;        # landscape diffusivity [m^2/kyr]\n",
    "age=200;     # cone age [kyr]\n",
    "\n",
    "# !! YOU DO NOT NEED TO MODIFY THE CODE BELOW THIS LINE !! \n",
    "\n",
    "from coneevolution import cone\n",
    "[elevation,distance,coneslope]=cone(D,age)\n",
    "\n",
    "import matplotlib.pyplot as plt\n",
    "plt.plot(distance,elevation,'b-')\n",
    "plt.xlabel('Distance (m)', fontsize=14)\n",
    "plt.ylabel('Elevation (m)', fontsize=14)\n",
    "plt.title('Mean Cone Slope: '+str(round(coneslope,1))+' deg', fontsize=14)\n",
    "plt.show()"
   ]
  },
  {
   "cell_type": "markdown",
   "metadata": {},
   "source": [
    "### Interpretting the result\n",
    "\n",
    "You should see that the code has produced a plot of the cinder cone's shape when it is 200 kyr old. Notice how it looks different from the initial shape of the cone (shown above in the section titled \"A model for cinder cone evolution\").\n",
    "\n",
    "__Also notice that the mean slope of the modeled cinder cone appears in the title of the above plot. If the values were correctly set as $D=20$ and $age=200$, you should see that the mean cone slope is $16.1^{\\circ}$__. In the code box below, let's now set $D=0.1$ $\\mathrm{m}^2$ $\\mathrm{kyr}^{-1}$, which is representative of some of the most arid environments in the world. Run the code below to see what the topographic profile of a cinder cone would look like after 200 kyr in this type of environment."
   ]
  },
  {
   "cell_type": "code",
   "execution_count": null,
   "metadata": {},
   "outputs": [],
   "source": [
    "D=0.1;        # landscape diffusivity [m^2/kyr]\n",
    "age=200;      # cone age [kyr]\n",
    "\n",
    "# !! YOU DO NOT NEED TO MODIFY THE CODE BELOW THIS LINE !! \n",
    "\n",
    "from coneevolution import cone\n",
    "[elevation,distance,coneslope]=cone(D,age)\n",
    "\n",
    "import matplotlib.pyplot as plt\n",
    "plt.plot(distance,elevation,'b-')\n",
    "plt.xlabel('Distance (m)', fontsize=14)\n",
    "plt.ylabel('Elevation (m)', fontsize=14)\n",
    "plt.title('Mean Cone Slope: '+str(round(coneslope,1))+' deg', fontsize=14)\n",
    "plt.show()"
   ]
  },
  {
   "cell_type": "markdown",
   "metadata": {},
   "source": [
    "You should notice that the topographic profile of the cone does not change significantly from our initial cone shape over 200 kyr when $D=0.1$ $\\mathrm{m}^2$ $\\mathrm{kyr}^{-1}$, but it does look substantially \"smoother\" after 200 kyr if $D=20$ $\\mathrm{m}^2$ $\\mathrm{kyr}^{-1}$. This makes sense because higher values of $D$ mean that colluvial sediment transport processes (e.g. creep, bioturbation, rainsplash) are more active and therefore the cinder cones will erode faster."
   ]
  },
  {
   "cell_type": "markdown",
   "metadata": {},
   "source": [
    "### What is the landscape diffusivity in the SFVF?\n",
    "##### Cone 1; Latitude=35.269; Longitude=-111.784; Slope=20 degrees\n",
    "We know that the landscape diffusivity varies with climate and vegetation (just to name a few factors!) so what is its value in the SFVF? Luckily for us, several cinder cones have known ages and we can use that to our advantage. One such cone, displayed in the google earth image below, is located at 35.269, -111.784. \n",
    "\n",
    "<img src=\"Cone12_440ka.jpg\" alt=\"Drawing\" style=\"width: 400px;\"/>\n",
    "\n",
    "This cone is 440 kyr old and has an average slope of $20^{\\circ}$. We are now going to use the “guess and check” method to determine the value of $D$ that gives us a cone with a slope of $20^{\\circ}$ after 440 kyr. If you guess a value of $D$ that is too high, then the cone will erode too much and its average slope will be less than $20^{\\circ}$. If you guess a value of $D$ that is too low, then not enough erosion will occur in 440 kyr and the slope of the cone will be too high. Using the code block below, \"guess\" a value of $D$ (by default the value of $D$ is set to be $1$ but you can change it to anything you like) and then run the code. Keep trying new values until you can determine one that produces a cone that is 440 kyr old and has a mean slope of approximately $20^{\\circ}$ (i.e. the slope of our 440 kyr old cone). Hint: the value of $D$ will be between $D=0.1$ and $D=20$. You may not end up with a cone that has a slope of exactly $20^{\\circ}$ and that is ok. It is close enough if you can find a cone with a slope between $19.5^{\\circ}$ and $20.5^{\\circ}$. "
   ]
  },
  {
   "cell_type": "code",
   "execution_count": null,
   "metadata": {},
   "outputs": [],
   "source": [
    "D=1;         # landscape diffusivity [m^2/kyr]\n",
    "age=440;     # cone age [kyr]\n",
    "\n",
    "# !! YOU DO NOT NEED TO MODIFY THE CODE BELOW THIS LINE !! \n",
    "\n",
    "from coneevolution import cone\n",
    "[elevation,distance,coneslope]=cone(D,age)\n",
    "\n",
    "import matplotlib.pyplot as plt\n",
    "plt.plot(distance,elevation,'b-')\n",
    "plt.xlabel('Distance (m)', fontsize=14)\n",
    "plt.ylabel('Elevation (m)', fontsize=14)\n",
    "plt.title('Mean Cone Slope: '+str(round(coneslope,1))+' deg', fontsize=14)\n",
    "plt.show()"
   ]
  },
  {
   "cell_type": "markdown",
   "metadata": {},
   "source": [
    "What value of $D$ produces a cone that has a mean slope of roughly $20^{\\circ}$ when its age is 440 kyr?"
   ]
  },
  {
   "cell_type": "markdown",
   "metadata": {},
   "source": [
    "DOUBLE CLICK HERE TO ENTER YOUR ANSWER"
   ]
  },
  {
   "cell_type": "markdown",
   "metadata": {},
   "source": [
    "We will call this value $D_c$ since it is your “calibrated” value of $D$ for the SFVF. You have uncovered a very powerful piece of information because **we can now apply this landscape diffusivity value ($D_c$) to simulate how all other cinder cones in the SFVF should change with time!** You will learn how powerful this information really is in the next step."
   ]
  },
  {
   "cell_type": "markdown",
   "metadata": {},
   "source": [
    "### Using our model to estimate cinder cone age\n",
    "##### Cone 2; Latitude=35.287; Longitude=-112.549; Slope=9 degrees\n",
    "Now that you have determined $D_c$, we are going to use it to determine the ages of four other cinder cones. These cinder cones are all located in different parts of the volcanic field. So, if we can estimate their ages then we can determine whether or not the center of volcanic activity has been shifting as a function of time within the SFVF. The first cone is located at 35.287,-112.549 and it has a mean slope of roughly $9^{\\circ}$. Let’s call this slope angle $S_1$ for future reference. A google earth image of this cone is displayed below.\n",
    "\n",
    "<img src=\"Cone63_unknownage.jpg\" alt=\"Drawing\" style=\"width: 400px;\"/>\n",
    "\n",
    "We know the value of the landscape diffusivity is $D_c$ so we can now “guess” different ages for this cone until we determine the age that gives us a cinder cone with a mean slope equal to $S_1$, which is $9^{\\circ}$. As a default, the value of $D$ is set to $1$. __The first thing you should do in the code cell below is to set $D$ equal to the value that you found above (the value that we are calling $D_c$)!__ Then, guess an age for the cone (by default it has been set to be 100 kyr) and run the code block below. Continue to guess different ages until you determine the age that is required in order to match the slope of this cinder cone (i.e. $9^{\\circ}$). **NOTE: There may be several \"ages\" that result in the correct slope angle (i.e. an age of 100 kyr and an age of 102 kyr may result in a cone with the same average slope). This is expected and choosing one such age over the other makes no difference for the purposes of this assignment.**"
   ]
  },
  {
   "cell_type": "code",
   "execution_count": null,
   "metadata": {},
   "outputs": [],
   "source": [
    "D=1;          # landscape diffusivity [m^2/kyr]\n",
    "age=100;      # cone age [kyr]\n",
    "\n",
    "# !! YOU DO NOT NEED TO MODIFY THE CODE BELOW THIS LINE !! \n",
    "\n",
    "from coneevolution import cone\n",
    "[elevation,distance,coneslope]=cone(D,age)\n",
    "\n",
    "import matplotlib.pyplot as plt\n",
    "plt.plot(distance,elevation,'b-')\n",
    "plt.xlabel('Distance (m)', fontsize=14)\n",
    "plt.ylabel('Elevation (m)', fontsize=14)\n",
    "plt.title('Mean Cone Slope: '+str(round(coneslope,1))+' deg', fontsize=14)\n",
    "plt.show()"
   ]
  },
  {
   "cell_type": "markdown",
   "metadata": {},
   "source": [
    "**What is your estimate for the age of this cinder cone? Once you have determined the age of this cinder cone (Cone 2), record that age in your notes. You will need to reference it later to complete this exercise.**"
   ]
  },
  {
   "cell_type": "markdown",
   "metadata": {},
   "source": [
    "##### Cone 3; Latitude=35.670; Longitude=-111.961; Slope=15 degrees\n",
    "We are going use the same technique to estimate the ages of three other cinder cones in the SFVF. The next cone, which we call cone 3, is located at 35.670 -111.961. We will refer to this cone as Cone 3. It has a slope of roughly $15^{\\circ}$. A picture of the cone is displayed below.\n",
    "\n",
    "<img src=\"Cone51_unknownage.jpg\" alt=\"Drawing\" style=\"width: 400px;\"/>\n",
    "\n",
    "Use the code block below to estimate the age of the cone by changing the \"age\" variable until you find the age that results in a cone that has a slope equal to $15^{\\circ}$. Again, make sure that you set the value of $D$ equal to the value that you found earlier for $D_c$. **Once you have determined the age of Cone 3, record it in your notes as you will need to reference it later to complete the homework.**"
   ]
  },
  {
   "cell_type": "code",
   "execution_count": null,
   "metadata": {},
   "outputs": [],
   "source": [
    "D=1;          # landscape diffusivity [m^2/kyr]\n",
    "age=100;      # cone age [kyr]\n",
    "\n",
    "# !! YOU DO NOT NEED TO MODIFY THE CODE BELOW THIS LINE !! \n",
    "\n",
    "from coneevolution import cone\n",
    "[elevation,distance,coneslope]=cone(D,age)\n",
    "\n",
    "import matplotlib.pyplot as plt\n",
    "plt.plot(distance,elevation,'b-')\n",
    "plt.xlabel('Distance (m)', fontsize=14)\n",
    "plt.ylabel('Elevation (m)', fontsize=14)\n",
    "plt.title('Mean Cone Slope: '+str(round(coneslope,1))+' deg', fontsize=14)\n",
    "plt.show()"
   ]
  },
  {
   "cell_type": "markdown",
   "metadata": {},
   "source": [
    "##### Cone 4; Latitude=35.330; Longitude=-111.483; Slope=22 degrees\n",
    "The next cone is located at 35.330, -111.483. We will refer to this cone as Cone 4. It has a mean slope of $22^{\\circ}$.\n",
    "\n",
    "<img src=\"Cone19_unknownage.jpg\" alt=\"Drawing\" style=\"width: 400px;\"/>\n",
    "\n",
    "Use the code block below and the same procedure as before to estimate the age of this cone. Record your estimated age in your notes."
   ]
  },
  {
   "cell_type": "code",
   "execution_count": null,
   "metadata": {},
   "outputs": [],
   "source": [
    "D=1;          # landscape diffusivity [m^2/kyr]\n",
    "age=100;      # cone age [kyr]\n",
    "\n",
    "# !! YOU DO NOT NEED TO MODIFY THE CODE BELOW THIS LINE !! \n",
    "\n",
    "from coneevolution import cone\n",
    "[elevation,distance,coneslope]=cone(D,age)\n",
    "\n",
    "import matplotlib.pyplot as plt\n",
    "plt.plot(distance,elevation,'b-')\n",
    "plt.xlabel('Distance (m)', fontsize=14)\n",
    "plt.ylabel('Elevation (m)', fontsize=14)\n",
    "plt.title('Mean Cone Slope: '+str(round(coneslope,1))+' deg', fontsize=14)\n",
    "plt.show()"
   ]
  },
  {
   "cell_type": "markdown",
   "metadata": {},
   "source": [
    "##### Cone 5; Latitude=35.338; Longitude=-111.289; Slope=27 degrees\n",
    "The last cone, Cone 5, is located at 35.338, -111.289. The mean slope of this cone is approximately $27^{\\circ}$. \n",
    "\n",
    "<img src=\"cone82_merriam.jpg\" alt=\"Drawing\" style=\"width: 400px;\"/>\n",
    "\n",
    "\n",
    "Use the code block below and the same procedure as before to estimate the age of this cone. What is your estimate for the age of the cone?"
   ]
  },
  {
   "cell_type": "code",
   "execution_count": null,
   "metadata": {},
   "outputs": [],
   "source": [
    "D=1;          # landscape diffusivity [m^2/kyr]\n",
    "age=100;      # cone age [kyr]\n",
    "\n",
    "# !! YOU DO NOT NEED TO MODIFY THE CODE BELOW THIS LINE !! \n",
    "\n",
    "from coneevolution import cone\n",
    "[elevation,distance,coneslope]=cone(D,age)\n",
    "\n",
    "import matplotlib.pyplot as plt\n",
    "plt.plot(distance,elevation,'b-')\n",
    "plt.xlabel('Distance (m)', fontsize=14)\n",
    "plt.ylabel('Elevation (m)', fontsize=14)\n",
    "plt.title('Mean Cone Slope: '+str(round(coneslope,1))+' deg', fontsize=14)\n",
    "plt.show()"
   ]
  },
  {
   "cell_type": "markdown",
   "metadata": {},
   "source": [
    "### Does cone age vary systematically with longitude?\n",
    "Remember that our original goal was to test the hypothesis that volcanic activity has shifted over time from west to east. You now know the ages of five cinder cones as well as their longitude. We can use this data to test our hypothesis. To do this, we will plot the age of the five cinder cones as function of their longitude. In Python, there are built-in functions that we can we can use to create a scatter plot . In our case, we want the X variable on the plot to represent the longitude of the five cinder cones where we have known or estimated ages. The Y variable will contain the corresponding ages of those five cinder cones. The code below makes a scatter plot of cinder cone age as a function of longitude. \n",
    "\n",
    "In order to make this plot, you will need to fill in some information. Notice in the code block below that the variable called \"Age_of_Cone_2\" is set equal to 1. This is clearly incorrect - it is merely a place holder. Replace the \"1\" with the age that you estimated for Cone 2. Similarly, the ages for Cone 3, 4, and 5 have also been set equal to 1. Change these values so that they are set equal to the ages that you estimated. You do not need to change the Age of Cone 1 since it is already correctly set equal to 440 kyr.\n",
    "\n",
    "When you have entered the correct ages for Cone 2, 3, 4, and 5, run the code and analyze the plot that it creates."
   ]
  },
  {
   "cell_type": "code",
   "execution_count": null,
   "metadata": {},
   "outputs": [],
   "source": [
    "Age_of_Cone_1=440;         # Age of Cone 1 in kyr\n",
    "Age_of_Cone_2=1;        # Age of Cone 2 in kyr\n",
    "Age_of_Cone_3=1;        # Age of Cone 3 in kyr\n",
    "Age_of_Cone_4=1;        # Age of Cone 4 in kyr\n",
    "Age_of_Cone_5=1;        # Age of Cone 5 in kyr\n",
    "\n",
    "# !! YOU DO NOT NEED TO MODIFY THE CODE BELOW THIS LINE !! \n",
    "longitude=[-111.784,-112.549,-111.961,-111.483,-111.289]\n",
    "coneage=[Age_of_Cone_1,Age_of_Cone_2,Age_of_Cone_3,Age_of_Cone_4,Age_of_Cone_5]\n",
    "\n",
    "import matplotlib.pyplot as plt                          # Load the necessary plotting tools\n",
    "plt.scatter(longitude,coneage,s=60, c='b', marker='o')   # Create the scatter plot, set marker size, set color, set marker type\n",
    "plt.xlabel('Longitude (deg)', fontsize=14)               # Create a x-axis label\n",
    "plt.ylabel('Cone Age (kyr)', fontsize=14)                # Create a y-axis label\n",
    "plt.title('San Francisco Volcanic Field', fontsize=14)   # Create a title\n",
    "plt.show()                                               # Display the plot"
   ]
  },
  {
   "cell_type": "markdown",
   "metadata": {},
   "source": [
    "### Conclusion\n",
    "Do your results, which are summarized in the plot that you just created, support or contradict the hypothesis that volcanic activity in the SFVF has shifted over time from west to east? **Justify your answer by referring to the data in your plot. Two or three sentences should be sufficient to answer this question.**"
   ]
  },
  {
   "cell_type": "markdown",
   "metadata": {},
   "source": [
    "DOUBLE CLICK HERE TO INSERT YOUR ANSWER."
   ]
  },
  {
   "cell_type": "markdown",
   "metadata": {},
   "source": [
    "### Learning Objectives\n",
    "\n",
    "1.\tUnderstanding cinder cone evolution. How does cinder cone morphology change over time?\n",
    "2.\tWhat is a landscape diffusivity and how does its value influence the rate at which hillslopes evolve with time? \n",
    "3. Using a numerical model to test a hypothesis.\n",
    "4. Learn how to edit code cells and run a numerical model in a Jupyter notbook.\n"
   ]
  }
 ],
 "metadata": {
  "kernelspec": {
   "display_name": "Python 3",
   "language": "python",
   "name": "python3"
  },
  "language_info": {
   "codemirror_mode": {
    "name": "ipython",
    "version": 3
   },
   "file_extension": ".py",
   "mimetype": "text/x-python",
   "name": "python",
   "nbconvert_exporter": "python",
   "pygments_lexer": "ipython3",
   "version": "3.7.0"
  }
 },
 "nbformat": 4,
 "nbformat_minor": 2
}
